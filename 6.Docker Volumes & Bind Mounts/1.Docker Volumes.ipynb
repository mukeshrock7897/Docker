{
 "cells": [
  {
   "cell_type": "markdown",
   "metadata": {},
   "source": [
    "\n",
    "---\n",
    "\n",
    "## 📂 **5. Docker Volumes & Bind Mounts**\n",
    "\n",
    "---\n",
    "\n",
    "### 📦 **What are Docker Volumes?**\n",
    "\n",
    "Volumes are **persistent storage** for Docker containers. They store data **outside the container’s writable layer**, so data **is not lost when the container is removed**.\n",
    "\n",
    "🔄 Use volumes to:\n",
    "\n",
    "* Persist database files, logs, uploads\n",
    "* Share data between containers\n",
    "* Avoid bloated container images\n",
    "\n",
    "---\n",
    "\n",
    "### 🧱 **Types of Volumes**\n",
    "\n",
    "| Type            | Description                                                   | Use Case                               |\n",
    "| --------------- | ------------------------------------------------------------- | -------------------------------------- |\n",
    "| **Anonymous**   | Auto-created by Docker with random name                       | Quick tests or temp data               |\n",
    "| **Named**       | Custom-named and managed via Docker CLI                       | Shared data across multiple containers |\n",
    "| **Bind Mounts** | Link **host machine directories** directly into the container | Mount local source code or configs     |\n",
    "\n",
    "---\n",
    "\n",
    "### 🛠️ **Commands Cheat Sheet**\n",
    "\n",
    "| Command                       | What it Does                  |\n",
    "| ----------------------------- | ----------------------------- |\n",
    "| `docker volume create myvol`  | Create named volume `myvol`   |\n",
    "| `docker volume inspect myvol` | View details about the volume |\n",
    "| `docker volume ls`            | List all volumes              |\n",
    "| `docker volume rm myvol`      | Remove a specific volume      |\n",
    "| `docker volume prune`         | Delete all unused volumes     |\n",
    "\n",
    "---\n",
    "\n",
    "### 🔗 **Using Volumes & Mounts in `docker run`**\n",
    "\n",
    "| Feature       | Syntax Example                       | Notes                              |\n",
    "| ------------- | ------------------------------------ | ---------------------------------- |\n",
    "| Anonymous Vol | `docker run -v /data busybox`        | No name — Docker manages it        |\n",
    "| Named Volume  | `docker run -v myvol:/data busybox`  | Re-usable across containers        |\n",
    "| Bind Mount    | `docker run -v $(pwd):/app -it node` | Mount current host dir into `/app` |\n",
    "\n",
    "> 💡 Always prefer **named volumes** for production, **bind mounts** for development.\n",
    "\n",
    "---\n",
    "\n"
   ]
  },
  {
   "cell_type": "markdown",
   "metadata": {},
   "source": []
  }
 ],
 "metadata": {
  "language_info": {
   "name": "python"
  }
 },
 "nbformat": 4,
 "nbformat_minor": 2
}
