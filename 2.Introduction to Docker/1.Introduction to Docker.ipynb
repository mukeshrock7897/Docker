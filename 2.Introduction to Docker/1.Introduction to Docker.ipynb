{
 "cells": [
  {
   "cell_type": "markdown",
   "metadata": {},
   "source": [
    "\n",
    "---\n",
    "\n",
    "# 🔰 1. Introduction to Docker\n",
    "\n",
    "### ✅ What & Why\n",
    "\n",
    "* **Docker** packages app + deps into **portable containers**.\n",
    "* Benefits: **consistent env**, **fast**, **lightweight**, **easy deploy/scale**.\n",
    "\n",
    "```bash\n",
    "docker run --rm hello-world\n",
    "```\n",
    "\n",
    "---\n",
    "\n",
    "### 🔍 VM vs Docker (1-liner view)\n",
    "\n",
    "| VM (Guest OS)             | Docker (Shared Kernel)        |\n",
    "| ------------------------- | ----------------------------- |\n",
    "| Minutes boot, GBs         | Seconds boot, MBs             |\n",
    "| Strong isolation, heavier | Lightweight isolation, faster |\n",
    "\n",
    "**Use Docker** for speed, portability, microservices, CI/CD.\n",
    "\n",
    "---\n",
    "\n",
    "### 📦 Image vs Container\n",
    "\n",
    "* **Image** = read-only blueprint (e.g., `python:3.10`).\n",
    "* **Container** = running instance of an image.\n",
    "\n",
    "```bash\n",
    "docker pull python:3.10\n",
    "docker run -it --rm python:3.10\n",
    "```\n",
    "\n",
    "---\n",
    "\n",
    "### 🧱 Architecture (essentials only)\n",
    "\n",
    "* **Docker Engine** = daemon (`dockerd`) + **CLI** (`docker`).\n",
    "* **Daemon** runs in background; manages images/containers/networks/volumes.\n",
    "* **CLI** sends commands to daemon.\n",
    "* **Registry** (Docker Hub/ECR/GHCR) stores images.\n",
    "\n",
    "```bash\n",
    "docker info            # Engine/daemon status\n",
    "docker version         # Client & server versions\n",
    "```\n"
   ]
  }
 ],
 "metadata": {
  "language_info": {
   "name": "python"
  }
 },
 "nbformat": 4,
 "nbformat_minor": 2
}
